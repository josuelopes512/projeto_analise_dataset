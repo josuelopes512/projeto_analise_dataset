{
 "cells": [
  {
   "cell_type": "code",
   "execution_count": 1,
   "metadata": {},
   "outputs": [],
   "source": [
    "from pathlib import Path\n",
    "Path('despesas.db').touch()"
   ]
  },
  {
   "cell_type": "code",
   "execution_count": null,
   "metadata": {},
   "outputs": [],
   "source": [
    "import pandas as pd\n",
    "import sqlite3\n",
    "\n",
    "conn = sqlite3.connect('despesas.db') # sqlite3.connect(\":memory:\")\n",
    "cursor = conn.cursor()\n",
    "\n",
    "despesas_contratadas_candidatos = pd.read_csv('datasets/despesas_contratadas_candidatos_2020_CE.csv', sep=\";\", encoding=\"latin1\")\n",
    "despesas_contratadas_candidatos.to_sql('despesas_contratadas_candidatos', conn, if_exists='append', index = False)\n",
    "\n",
    "despesas_contratadas_orgaos_partidarios = pd.read_csv('datasets/despesas_contratadas_orgaos_partidarios_2020_CE.csv', sep=\";\", encoding=\"latin1\")\n",
    "despesas_contratadas_orgaos_partidarios.to_sql('despesas_contratadas_orgaos_partidarios', conn, if_exists='append', index = False)\n",
    "\n",
    "despesas_pagas_candidatos = pd.read_csv('datasets/despesas_pagas_candidatos_2020_CE.csv', sep=\";\", encoding=\"latin1\")\n",
    "despesas_pagas_candidatos.to_sql('despesas_pagas_candidatos', conn, if_exists='append', index = False)\n",
    "\n",
    "despesas_pagas_orgaos_partidarios = pd.read_csv('datasets/despesas_pagas_orgaos_partidarios_2020_CE.csv', sep=\";\", encoding=\"latin1\")\n",
    "despesas_pagas_orgaos_partidarios.to_sql('despesas_pagas_orgaos_partidarios', conn, if_exists='append', index = False)"
   ]
  },
  {
   "cell_type": "code",
   "execution_count": null,
   "metadata": {},
   "outputs": [],
   "source": [
    "#Example"
   ]
  },
  {
   "cell_type": "code",
   "execution_count": null,
   "metadata": {},
   "outputs": [],
   "source": [
    "cursor.execute('''SELECT * FROM users u LEFT JOIN orders o ON u.user_id = o.user_id''')\n",
    "cursor.fetchall()"
   ]
  },
  {
   "cell_type": "code",
   "execution_count": null,
   "metadata": {},
   "outputs": [],
   "source": [
    "pd.read_sql('''SELECT * FROM users u LEFT JOIN orders o ON u.user_id = o.user_id''', conn)"
   ]
  }
 ],
 "metadata": {
  "kernelspec": {
   "display_name": "Python 3.10.6 ('venv': venv)",
   "language": "python",
   "name": "python3"
  },
  "language_info": {
   "codemirror_mode": {
    "name": "ipython",
    "version": 3
   },
   "file_extension": ".py",
   "mimetype": "text/x-python",
   "name": "python",
   "nbconvert_exporter": "python",
   "pygments_lexer": "ipython3",
   "version": "3.10.6"
  },
  "orig_nbformat": 4,
  "vscode": {
   "interpreter": {
    "hash": "9d3e0e692de63a24141fc3006db2c21e329d96230c09876352c9a62713718aa5"
   }
  }
 },
 "nbformat": 4,
 "nbformat_minor": 2
}
