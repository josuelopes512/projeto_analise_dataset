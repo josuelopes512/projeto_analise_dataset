{
 "cells": [
  {
   "cell_type": "code",
   "execution_count": 1,
   "metadata": {},
   "outputs": [],
   "source": [
    "CONNECTION = \"sqlite\"\n",
    "TYPE_CHARGEDB = \"local\""
   ]
  },
  {
   "cell_type": "code",
   "execution_count": 2,
   "metadata": {},
   "outputs": [],
   "source": [
    "connection_strings = (\n",
    "    \"Driver={SQL Server Native Client 11.0};\"\n",
    "    \"Server=(localdb)\\MSSQLLocalDB;\"\n",
    "    \"Database=master;\"\n",
    "    \"Trusted_Connection=yes;\"\n",
    ")"
   ]
  },
  {
   "cell_type": "code",
   "execution_count": 3,
   "metadata": {},
   "outputs": [],
   "source": [
    "if CONNECTION == \"sqlite\":\n",
    "    from pathlib import Path\n",
    "    import sqlite3\n",
    "\n",
    "    Path('despesas.db').touch()\n",
    "    conn = sqlite3.connect('despesas.db') # sqlite3.connect(\":memory:\")\n",
    "    cursor = conn.cursor()\n",
    "else:\n",
    "    try:\n",
    "        from sqlalchemy import create_engine\n",
    "        import urllib\n",
    "\n",
    "        quoted = urllib.parse.quote_plus(connection_strings)\n",
    "        conn = create_engine('mssql+pyodbc:///?odbc_connect={}'.format(quoted))\n",
    "        cursor = conn.engine.raw_connection().cursor()\n",
    "    except:\n",
    "        import pyodbc\n",
    "\n",
    "        conn = pyodbc.connect(connection_strings)\n",
    "        cursor = conn.cursor()"
   ]
  },
  {
   "cell_type": "code",
   "execution_count": 13,
   "metadata": {},
   "outputs": [],
   "source": [
    "import pandas as pd\n",
    "\n",
    "def charge_localdb():\n",
    "    despesas_contratadas_candidatos = pd.read_csv('datasets/candidatos/despesas_contratadas_candidatos_2020_CE.csv', sep=\";\", encoding=\"latin1\")\n",
    "    despesas_contratadas_candidatos.to_sql('despesas_contratadas_candidatos', conn, if_exists='append', index = False)\n",
    "\n",
    "    despesas_pagas_candidatos = pd.read_csv('datasets/candidatos/despesas_pagas_candidatos_2020_CE.csv', sep=\";\", encoding=\"latin1\")\n",
    "    despesas_pagas_candidatos.to_sql('despesas_pagas_candidatos', conn, if_exists='append', index = False)\n",
    "\n",
    "    despesas_contratadas_orgaos_partidarios = pd.read_csv('datasets/orgaos_partidarios/despesas_contratadas_orgaos_partidarios_2020_CE.csv', sep=\";\", encoding=\"latin1\")\n",
    "    despesas_contratadas_orgaos_partidarios.to_sql('despesas_contratadas_orgaos_partidarios', conn, if_exists='append', index = False)\n",
    "\n",
    "    despesas_pagas_orgaos_partidarios = pd.read_csv('datasets/orgaos_partidarios/despesas_pagas_orgaos_partidarios_2020_CE.csv', sep=\";\", encoding=\"latin1\")\n",
    "    despesas_pagas_orgaos_partidarios.to_sql('despesas_pagas_orgaos_partidarios', conn, if_exists='append', index = False)\n",
    "\n",
    "def charge_linkdb():\n",
    "    despesas_contratadas_candidatos = pd.read_csv('https://github.com/josuelopes512/projeto_analise_dataset/raw/master/datasets/candidatos/despesas_contratadas_candidatos_2020_CE.csv', sep=\";\", encoding=\"latin1\")\n",
    "    despesas_contratadas_candidatos.to_sql('despesas_contratadas_candidatos', conn, if_exists='append', index = False)\n",
    "\n",
    "    despesas_pagas_candidatos = pd.read_csv('https://github.com/josuelopes512/projeto_analise_dataset/raw/master/datasets/candidatos/despesas_pagas_candidatos_2020_CE.csv', sep=\";\", encoding=\"latin1\")\n",
    "    despesas_pagas_candidatos.to_sql('despesas_pagas_candidatos', conn, if_exists='append', index = False)\n",
    "\n",
    "    despesas_contratadas_orgaos_partidarios = pd.read_csv('https://github.com/josuelopes512/projeto_analise_dataset/raw/master/datasets/orgaos_partidarios/despesas_contratadas_orgaos_partidarios_2020_CE.csv', sep=\";\", encoding=\"latin1\")\n",
    "    despesas_contratadas_orgaos_partidarios.to_sql('despesas_contratadas_orgaos_partidarios', conn, if_exists='append', index = False)\n",
    "\n",
    "    despesas_pagas_orgaos_partidarios = pd.read_csv('https://github.com/josuelopes512/projeto_analise_dataset/raw/master/datasets/orgaos_partidarios/despesas_pagas_orgaos_partidarios_2020_CE.csv', sep=\";\", encoding=\"latin1\")\n",
    "    despesas_pagas_orgaos_partidarios.to_sql('despesas_pagas_orgaos_partidarios', conn, if_exists='append', index = False)"
   ]
  },
  {
   "cell_type": "code",
   "execution_count": 14,
   "metadata": {},
   "outputs": [],
   "source": [
    "if TYPE_CHARGEDB == \"local\":\n",
    "    charge_localdb()\n",
    "else:\n",
    "    charge_linkdb()"
   ]
  },
  {
   "cell_type": "code",
   "execution_count": 11,
   "metadata": {},
   "outputs": [],
   "source": [
    "#Example NR_CNPJ_PRESTADOR_CONTA"
   ]
  },
  {
   "cell_type": "code",
   "execution_count": 12,
   "metadata": {},
   "outputs": [],
   "source": [
    "# cursor.execute('''SELECT * FROM despesas_contratadas_candidatos u''')\n",
    "# cursor.fetchall()"
   ]
  },
  {
   "cell_type": "code",
   "execution_count": 13,
   "metadata": {},
   "outputs": [],
   "source": [
    "despesas_contratadas_candidatos_colunas = \"\"\"SELECT * FROM pragma_table_info('despesas_contratadas_candidatos');\"\"\"\n",
    "despesas_pagas_candidatos_colunas = \"\"\"SELECT * FROM pragma_table_info('despesas_pagas_candidatos');\"\"\"\n",
    "pagas_contratadas = \"\"\"SELECT contratadas.name FROM \n",
    "pragma_table_info('despesas_contratadas_candidatos') as contratadas, \n",
    "pragma_table_info('despesas_pagas_candidatos') as pagas on contratadas.name = pagas.name\"\"\""
   ]
  },
  {
   "cell_type": "code",
   "execution_count": 16,
   "metadata": {},
   "outputs": [],
   "source": [
    "consulta = \"\"\"SELECT COUNT(contratadas.SQ_PRESTADOR_CONTAS) FROM \n",
    "despesas_contratadas_candidatos as contratadas\n",
    "\"\"\" # 651760, 651760"
   ]
  },
  {
   "cell_type": "code",
   "execution_count": 6,
   "metadata": {},
   "outputs": [],
   "source": [
    "consulta = \"\"\"SELECT COUNT(pagas.SQ_PRESTADOR_CONTAS) FROM \n",
    "despesas_pagas_candidatos as pagas\n",
    "\"\"\" #525455, 525455"
   ]
  },
  {
   "cell_type": "code",
   "execution_count": null,
   "metadata": {},
   "outputs": [],
   "source": [
    "nova_tabela = pd.read_sql(consulta, conn)\n",
    "nova_tabela"
   ]
  },
  {
   "cell_type": "code",
   "execution_count": null,
   "metadata": {},
   "outputs": [],
   "source": [
    "# nova_tabela.to_sql('nova_tabela', conn, if_exists='append', index = False)"
   ]
  },
  {
   "cell_type": "code",
   "execution_count": null,
   "metadata": {},
   "outputs": [],
   "source": [
    "pd.read_sql(despesas_contratadas_candidatos_colunas, conn)"
   ]
  },
  {
   "cell_type": "code",
   "execution_count": null,
   "metadata": {},
   "outputs": [],
   "source": [
    "pd.read_sql(despesas_pagas_candidatos_colunas, conn)"
   ]
  },
  {
   "cell_type": "code",
   "execution_count": null,
   "metadata": {},
   "outputs": [],
   "source": [
    "pd.read_sql('''SELECT * FROM despesas_pagas_candidatos LIMIT 1''', conn)"
   ]
  }
 ],
 "metadata": {
  "kernelspec": {
   "display_name": "Python 3.10.6 ('venv': venv)",
   "language": "python",
   "name": "python3"
  },
  "language_info": {
   "codemirror_mode": {
    "name": "ipython",
    "version": 3
   },
   "file_extension": ".py",
   "mimetype": "text/x-python",
   "name": "python",
   "nbconvert_exporter": "python",
   "pygments_lexer": "ipython3",
   "version": "3.10.6"
  },
  "orig_nbformat": 4,
  "vscode": {
   "interpreter": {
    "hash": "9d3e0e692de63a24141fc3006db2c21e329d96230c09876352c9a62713718aa5"
   }
  }
 },
 "nbformat": 4,
 "nbformat_minor": 2
}
